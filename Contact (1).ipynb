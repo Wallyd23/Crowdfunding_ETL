{
 "cells": [
  {
   "cell_type": "code",
   "execution_count": 10,
   "id": "df9dcef6-f095-43e4-97e5-9d5a7b137496",
   "metadata": {},
   "outputs": [
    {
     "name": "stdout",
     "output_type": "stream",
     "text": [
      "Initial DataFrame:\n",
      "      0         1         2                            3\n",
      "0  3765   Mariana     Ellis      mariana.ellis@rossi.org\n",
      "1  4187     Sofie     Woods      sofie.woods@riviere.com\n",
      "2  4941  Jeanette  Iannotti  jeanette.iannotti@yahoo.com\n",
      "3  2199    Samuel   Sorgatz     samuel.sorgatz@gmail.com\n",
      "4  5650   Socorro      Luna     socorro.luna@hotmail.com\n"
     ]
    }
   ],
   "source": [
    "import pandas as pd\n",
    "import json\n",
    "\n",
    "# Read the CSV file into a DataFrame, skipping the first two rows\n",
    "contact_info_df = pd.read_csv(\"contacts.csv\", skiprows=2, header=None)\n",
    "\n",
    "# Debug: Display the first few rows to understand the structure\n",
    "print(\"Initial DataFrame:\")\n",
    "print(contact_info_df.head())\n",
    "\n"
   ]
  },
  {
   "cell_type": "code",
   "execution_count": 11,
   "id": "0172fa14-25bd-4c64-a5a4-272fc373b92c",
   "metadata": {},
   "outputs": [],
   "source": [
    "# Concatenate the columns into a list of strings\n",
    "contact_info_df[\"contact_info\"] = contact_info_df.apply(lambda row: row.astype(str).to_list(), axis=1)\n"
   ]
  },
  {
   "cell_type": "code",
   "execution_count": 12,
   "id": "2c14f3f6-7046-4dc6-9bd9-7aac13a7add1",
   "metadata": {},
   "outputs": [],
   "source": [
    "# Convert the concatenated string into a valid JSON format\n",
    "def convert_to_json(lst):\n",
    "    if len(lst) == 4:\n",
    "        return json.dumps({\n",
    "            \"contact_id\": int(lst[0]),\n",
    "            \"name\": f\"{lst[1]} {lst[2]}\",\n",
    "            \"email\": lst[3]\n",
    "        })\n",
    "    else:\n",
    "        return None\n",
    "\n",
    "# Apply the function to each row\n",
    "contact_info_df[\"contact_info\"] = contact_info_df[\"contact_info\"].apply(convert_to_json)\n"
   ]
  },
  {
   "cell_type": "code",
   "execution_count": 13,
   "id": "61ba7b50-39f3-481f-b32c-a7236f74e123",
   "metadata": {},
   "outputs": [
    {
     "name": "stdout",
     "output_type": "stream",
     "text": [
      "\n",
      "Parsed JSON objects:\n",
      "0    {'contact_id': 3765, 'name': 'Mariana Ellis', ...\n",
      "1    {'contact_id': 4187, 'name': 'Sofie Woods', 'e...\n",
      "2    {'contact_id': 4941, 'name': 'Jeanette Iannott...\n",
      "3    {'contact_id': 2199, 'name': 'Samuel Sorgatz',...\n",
      "4    {'contact_id': 5650, 'name': 'Socorro Luna', '...\n",
      "Name: contact_info, dtype: object\n"
     ]
    }
   ],
   "source": [
    "# Function to parse JSON string\n",
    "def parse_json_string(json_str):\n",
    "    try:\n",
    "        return json.loads(json_str)\n",
    "    except json.JSONDecodeError as e:\n",
    "        print(f\"JSONDecodeError: {e} for string: {json_str}\")\n",
    "        return None\n",
    "\n",
    "# Apply the function to each cell in the DataFrame\n",
    "contact_info_df[\"contact_info\"] = contact_info_df[\"contact_info\"].apply(parse_json_string)\n",
    "\n",
    "# Debug: Display the parsed JSON objects\n",
    "print(\"\\nParsed JSON objects:\")\n",
    "print(contact_info_df[\"contact_info\"].head())\n"
   ]
  },
  {
   "cell_type": "code",
   "execution_count": 14,
   "id": "78d82dd5-0c41-4571-8b6b-c138e85a5c12",
   "metadata": {},
   "outputs": [
    {
     "name": "stdout",
     "output_type": "stream",
     "text": [
      "\n",
      "Cleaned DataFrame with JSON parsed:\n",
      "   contact_id               name                        email\n",
      "0        3765      Mariana Ellis      mariana.ellis@rossi.org\n",
      "1        4187        Sofie Woods      sofie.woods@riviere.com\n",
      "2        4941  Jeanette Iannotti  jeanette.iannotti@yahoo.com\n",
      "3        2199     Samuel Sorgatz     samuel.sorgatz@gmail.com\n",
      "4        5650       Socorro Luna     socorro.luna@hotmail.com\n"
     ]
    }
   ],
   "source": [
    "# Extract required information from the parsed JSON and create a new DataFrame\n",
    "contacts_df_clean = pd.DataFrame(contact_info_df[\"contact_info\"].tolist())\n",
    "\n",
    "# Debug: Display the cleaned DataFrame\n",
    "print(\"\\nCleaned DataFrame with JSON parsed:\")\n",
    "print(contacts_df_clean.head())\n"
   ]
  },
  {
   "cell_type": "code",
   "execution_count": 15,
   "id": "f2517e90-c07d-4c2b-a008-2a1d8470c32f",
   "metadata": {},
   "outputs": [],
   "source": [
    "# Split the 'name' information from the 'contact_info' column into 'first_name' and 'last_name'\n",
    "contacts_df_clean[['first_name', 'last_name']] = contacts_df_clean['name'].str.split(' ', n=1, expand=True)\n"
   ]
  },
  {
   "cell_type": "code",
   "execution_count": 16,
   "id": "8b091f53-92f5-4c3e-b3c3-fff0924dd588",
   "metadata": {},
   "outputs": [],
   "source": [
    "# Drop unnecessary columns\n",
    "contacts_df_clean.drop(columns=[\"name\"], inplace=True)\n",
    "\n",
    "# Reorder the columns\n",
    "contacts_df_clean = contacts_df_clean[['contact_id', 'first_name', 'last_name', 'email']]\n"
   ]
  },
  {
   "cell_type": "code",
   "execution_count": 17,
   "id": "615d5ee9-2860-4936-b1dd-73fad2200623",
   "metadata": {},
   "outputs": [
    {
     "name": "stdout",
     "output_type": "stream",
     "text": [
      "\n",
      "Final DataFrame:\n",
      "     contact_id    first_name   last_name  \\\n",
      "0          3765       Mariana       Ellis   \n",
      "1          4187         Sofie       Woods   \n",
      "2          4941      Jeanette    Iannotti   \n",
      "3          2199        Samuel     Sorgatz   \n",
      "4          5650       Socorro        Luna   \n",
      "..          ...           ...         ...   \n",
      "994        3684       Whitney       Noack   \n",
      "995        5784     Gelsomina  Migliaccio   \n",
      "996        1498   Evangelista     Pereira   \n",
      "997        6073        Gareth     Comolli   \n",
      "998        4939  Michelangelo        Hess   \n",
      "\n",
      "                                         email  \n",
      "0                      mariana.ellis@rossi.org  \n",
      "1                      sofie.woods@riviere.com  \n",
      "2                  jeanette.iannotti@yahoo.com  \n",
      "3                     samuel.sorgatz@gmail.com  \n",
      "4                     socorro.luna@hotmail.com  \n",
      "..                                         ...  \n",
      "994             whitney.noack@laboratorios.org  \n",
      "995              gelsomina.migliaccio@junk.com  \n",
      "996  evangelista.pereira@thompson-peterson.biz  \n",
      "997                  gareth.comolli@tiscali.fr  \n",
      "998              michelangelo.hess@bouygtel.fr  \n",
      "\n",
      "[999 rows x 4 columns]\n"
     ]
    }
   ],
   "source": [
    "# Display the final DataFrame\n",
    "print(\"\\nFinal DataFrame:\")\n",
    "print(contacts_df_clean)\n"
   ]
  },
  {
   "cell_type": "code",
   "execution_count": 18,
   "id": "432c6c27-2132-4f10-bcd7-850680b1d07b",
   "metadata": {},
   "outputs": [
    {
     "name": "stdout",
     "output_type": "stream",
     "text": [
      "\n",
      "Data types of final DataFrame columns:\n",
      "contact_id     int64\n",
      "first_name    object\n",
      "last_name     object\n",
      "email         object\n",
      "dtype: object\n"
     ]
    }
   ],
   "source": [
    "# Check the data types of the final DataFrame\n",
    "print(\"\\nData types of final DataFrame columns:\")\n",
    "print(contacts_df_clean.dtypes)\n"
   ]
  },
  {
   "cell_type": "code",
   "execution_count": 19,
   "id": "b56516ef-ffec-4b8e-addb-47efd9c66555",
   "metadata": {},
   "outputs": [],
   "source": [
    "# Export the DataFrame as a CSV file\n",
    "contacts_df_clean.to_csv(\"cleanedcontacts.csv\", index=False)\n"
   ]
  },
  {
   "cell_type": "code",
   "execution_count": null,
   "id": "eee8640b-0eda-4ee2-8dbf-ce75d619f54f",
   "metadata": {},
   "outputs": [],
   "source": []
  }
 ],
 "metadata": {
  "kernelspec": {
   "display_name": "Python 3 (ipykernel)",
   "language": "python",
   "name": "python3"
  },
  "language_info": {
   "codemirror_mode": {
    "name": "ipython",
    "version": 3
   },
   "file_extension": ".py",
   "mimetype": "text/x-python",
   "name": "python",
   "nbconvert_exporter": "python",
   "pygments_lexer": "ipython3",
   "version": "3.11.7"
  }
 },
 "nbformat": 4,
 "nbformat_minor": 5
}
